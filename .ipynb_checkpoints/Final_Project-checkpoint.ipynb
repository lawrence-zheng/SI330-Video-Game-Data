{
 "cells": [
  {
   "cell_type": "code",
   "execution_count": 1,
   "metadata": {},
   "outputs": [],
   "source": [
    "import numpy as np\n",
    "import pandas as pd"
   ]
  },
  {
   "cell_type": "markdown",
   "metadata": {},
   "source": [
    "# Importing/manipulating first data source"
   ]
  },
  {
   "cell_type": "markdown",
   "metadata": {},
   "source": [
    "Importing Kaggle dataset for behaviors of different Steam users"
   ]
  },
  {
   "cell_type": "code",
   "execution_count": 2,
   "metadata": {},
   "outputs": [],
   "source": [
    "df = pd.read_csv(\"data/steam-200k.csv\", names = [\"user ID\", \"game\", \"behavior\", \"behavior_num\", \"null\"])"
   ]
  },
  {
   "cell_type": "code",
   "execution_count": 3,
   "metadata": {},
   "outputs": [
    {
     "data": {
      "text/html": [
       "<div>\n",
       "<style scoped>\n",
       "    .dataframe tbody tr th:only-of-type {\n",
       "        vertical-align: middle;\n",
       "    }\n",
       "\n",
       "    .dataframe tbody tr th {\n",
       "        vertical-align: top;\n",
       "    }\n",
       "\n",
       "    .dataframe thead th {\n",
       "        text-align: right;\n",
       "    }\n",
       "</style>\n",
       "<table border=\"1\" class=\"dataframe\">\n",
       "  <thead>\n",
       "    <tr style=\"text-align: right;\">\n",
       "      <th></th>\n",
       "      <th>user ID</th>\n",
       "      <th>game</th>\n",
       "      <th>behavior</th>\n",
       "      <th>behavior_num</th>\n",
       "      <th>null</th>\n",
       "    </tr>\n",
       "  </thead>\n",
       "  <tbody>\n",
       "    <tr>\n",
       "      <th>0</th>\n",
       "      <td>151603712</td>\n",
       "      <td>The Elder Scrolls V Skyrim</td>\n",
       "      <td>purchase</td>\n",
       "      <td>1.0</td>\n",
       "      <td>0</td>\n",
       "    </tr>\n",
       "    <tr>\n",
       "      <th>1</th>\n",
       "      <td>151603712</td>\n",
       "      <td>The Elder Scrolls V Skyrim</td>\n",
       "      <td>play</td>\n",
       "      <td>273.0</td>\n",
       "      <td>0</td>\n",
       "    </tr>\n",
       "    <tr>\n",
       "      <th>2</th>\n",
       "      <td>151603712</td>\n",
       "      <td>Fallout 4</td>\n",
       "      <td>purchase</td>\n",
       "      <td>1.0</td>\n",
       "      <td>0</td>\n",
       "    </tr>\n",
       "    <tr>\n",
       "      <th>3</th>\n",
       "      <td>151603712</td>\n",
       "      <td>Fallout 4</td>\n",
       "      <td>play</td>\n",
       "      <td>87.0</td>\n",
       "      <td>0</td>\n",
       "    </tr>\n",
       "    <tr>\n",
       "      <th>4</th>\n",
       "      <td>151603712</td>\n",
       "      <td>Spore</td>\n",
       "      <td>purchase</td>\n",
       "      <td>1.0</td>\n",
       "      <td>0</td>\n",
       "    </tr>\n",
       "  </tbody>\n",
       "</table>\n",
       "</div>"
      ],
      "text/plain": [
       "     user ID                        game  behavior  behavior_num  null\n",
       "0  151603712  The Elder Scrolls V Skyrim  purchase           1.0     0\n",
       "1  151603712  The Elder Scrolls V Skyrim      play         273.0     0\n",
       "2  151603712                   Fallout 4  purchase           1.0     0\n",
       "3  151603712                   Fallout 4      play          87.0     0\n",
       "4  151603712                       Spore  purchase           1.0     0"
      ]
     },
     "execution_count": 3,
     "metadata": {},
     "output_type": "execute_result"
    }
   ],
   "source": [
    "df.head()"
   ]
  },
  {
   "cell_type": "markdown",
   "metadata": {},
   "source": [
    "Manipulating dataset to suit my purposes"
   ]
  },
  {
   "cell_type": "code",
   "execution_count": 4,
   "metadata": {},
   "outputs": [
    {
     "data": {
      "text/html": [
       "<div>\n",
       "<style scoped>\n",
       "    .dataframe tbody tr th:only-of-type {\n",
       "        vertical-align: middle;\n",
       "    }\n",
       "\n",
       "    .dataframe tbody tr th {\n",
       "        vertical-align: top;\n",
       "    }\n",
       "\n",
       "    .dataframe thead th {\n",
       "        text-align: right;\n",
       "    }\n",
       "</style>\n",
       "<table border=\"1\" class=\"dataframe\">\n",
       "  <thead>\n",
       "    <tr style=\"text-align: right;\">\n",
       "      <th></th>\n",
       "      <th>game</th>\n",
       "      <th>hours played</th>\n",
       "    </tr>\n",
       "  </thead>\n",
       "  <tbody>\n",
       "    <tr>\n",
       "      <th>1</th>\n",
       "      <td>The Elder Scrolls V Skyrim</td>\n",
       "      <td>273.0</td>\n",
       "    </tr>\n",
       "    <tr>\n",
       "      <th>3</th>\n",
       "      <td>Fallout 4</td>\n",
       "      <td>87.0</td>\n",
       "    </tr>\n",
       "    <tr>\n",
       "      <th>5</th>\n",
       "      <td>Spore</td>\n",
       "      <td>14.9</td>\n",
       "    </tr>\n",
       "    <tr>\n",
       "      <th>7</th>\n",
       "      <td>Fallout New Vegas</td>\n",
       "      <td>12.1</td>\n",
       "    </tr>\n",
       "    <tr>\n",
       "      <th>9</th>\n",
       "      <td>Left 4 Dead 2</td>\n",
       "      <td>8.9</td>\n",
       "    </tr>\n",
       "  </tbody>\n",
       "</table>\n",
       "</div>"
      ],
      "text/plain": [
       "                         game  hours played\n",
       "1  The Elder Scrolls V Skyrim         273.0\n",
       "3                   Fallout 4          87.0\n",
       "5                       Spore          14.9\n",
       "7           Fallout New Vegas          12.1\n",
       "9               Left 4 Dead 2           8.9"
      ]
     },
     "execution_count": 4,
     "metadata": {},
     "output_type": "execute_result"
    }
   ],
   "source": [
    "df2 = df[df.behavior==\"play\"].drop(columns=[\"user ID\", \"behavior\", \"null\"]).rename(index=str, columns={\"behavior_num\": \"hours played\"})\n",
    "df2.head()"
   ]
  },
  {
   "cell_type": "code",
   "execution_count": 5,
   "metadata": {},
   "outputs": [
    {
     "data": {
      "text/plain": [
       "game            70489\n",
       "hours played    70489\n",
       "dtype: int64"
      ]
     },
     "execution_count": 5,
     "metadata": {},
     "output_type": "execute_result"
    }
   ],
   "source": [
    "df2.count()"
   ]
  },
  {
   "cell_type": "code",
   "execution_count": 6,
   "metadata": {},
   "outputs": [
    {
     "data": {
      "text/html": [
       "<div>\n",
       "<style scoped>\n",
       "    .dataframe tbody tr th:only-of-type {\n",
       "        vertical-align: middle;\n",
       "    }\n",
       "\n",
       "    .dataframe tbody tr th {\n",
       "        vertical-align: top;\n",
       "    }\n",
       "\n",
       "    .dataframe thead th {\n",
       "        text-align: right;\n",
       "    }\n",
       "</style>\n",
       "<table border=\"1\" class=\"dataframe\">\n",
       "  <thead>\n",
       "    <tr style=\"text-align: right;\">\n",
       "      <th></th>\n",
       "      <th>hours played</th>\n",
       "    </tr>\n",
       "    <tr>\n",
       "      <th>game</th>\n",
       "      <th></th>\n",
       "    </tr>\n",
       "  </thead>\n",
       "  <tbody>\n",
       "    <tr>\n",
       "      <th>007 Legends</th>\n",
       "      <td>0.70</td>\n",
       "    </tr>\n",
       "    <tr>\n",
       "      <th>0RBITALIS</th>\n",
       "      <td>0.40</td>\n",
       "    </tr>\n",
       "    <tr>\n",
       "      <th>1... 2... 3... KICK IT! (Drop That Beat Like an Ugly Baby)</th>\n",
       "      <td>4.00</td>\n",
       "    </tr>\n",
       "    <tr>\n",
       "      <th>10 Second Ninja</th>\n",
       "      <td>2.95</td>\n",
       "    </tr>\n",
       "    <tr>\n",
       "      <th>10,000,000</th>\n",
       "      <td>3.60</td>\n",
       "    </tr>\n",
       "  </tbody>\n",
       "</table>\n",
       "</div>"
      ],
      "text/plain": [
       "                                                    hours played\n",
       "game                                                            \n",
       "007 Legends                                                 0.70\n",
       "0RBITALIS                                                   0.40\n",
       "1... 2... 3... KICK IT! (Drop That Beat Like an...          4.00\n",
       "10 Second Ninja                                             2.95\n",
       "10,000,000                                                  3.60"
      ]
     },
     "execution_count": 6,
     "metadata": {},
     "output_type": "execute_result"
    }
   ],
   "source": [
    "hours = df2.groupby(\"game\").mean()\n",
    "hours.head()"
   ]
  },
  {
   "cell_type": "code",
   "execution_count": 7,
   "metadata": {},
   "outputs": [
    {
     "data": {
      "text/plain": [
       "hours played    3600\n",
       "dtype: int64"
      ]
     },
     "execution_count": 7,
     "metadata": {},
     "output_type": "execute_result"
    }
   ],
   "source": [
    "hours.count()"
   ]
  },
  {
   "cell_type": "markdown",
   "metadata": {},
   "source": [
    "# Importing/manipulating second data source"
   ]
  },
  {
   "cell_type": "markdown",
   "metadata": {},
   "source": [
    "Getting data from IGDB API to fetch relevant data for each game"
   ]
  },
  {
   "cell_type": "code",
   "execution_count": 8,
   "metadata": {},
   "outputs": [],
   "source": [
    "import requests\n",
    "import json\n",
    "\n",
    "def getIgdbData(name):\n",
    "    headers = {\n",
    "        # API key hidden for security purposes, can get one for free at https://api.igdb.com/\n",
    "        \"user-key\": user_key,\n",
    "        \"user-agent\": \"Lawrence Zheng's personal project\",\n",
    "    }\n",
    "    payload = \"fields name,first_release_date, genres, rating; where name = \\\"\" + name + \"\\\";\"\n",
    "    url = \"https://api-v3.igdb.com/games\"\n",
    "    response = requests.post(url, headers=headers, data=payload)\n",
    "    results = json.loads(response.content)\n",
    "    return results"
   ]
  },
  {
   "cell_type": "code",
   "execution_count": 9,
   "metadata": {},
   "outputs": [
    {
     "data": {
      "text/plain": [
       "[{'id': 9981,\n",
       "  'first_release_date': 1295481600,\n",
       "  'genres': [8, 9, 11, 15, 32],\n",
       "  'name': 'APOX',\n",
       "  'platforms': [92],\n",
       "  'rating': 40.0}]"
      ]
     },
     "execution_count": 9,
     "metadata": {},
     "output_type": "execute_result"
    }
   ],
   "source": [
    "getIgdbData(\"APOX\")"
   ]
  },
  {
   "cell_type": "markdown",
   "metadata": {},
   "source": [
    "Iterating through each game listed on previous dataset and combining"
   ]
  },
  {
   "cell_type": "code",
   "execution_count": 10,
   "metadata": {},
   "outputs": [],
   "source": [
    "results = []\n",
    "read_cache = True\n",
    "try:\n",
    "    if read_cache is False:\n",
    "        for row_index,row in hours.iterrows():\n",
    "            result = getIgdbData(row_index)\n",
    "            if len(result) != 0:\n",
    "                result_dict = result[0]\n",
    "                result_dict['time_played'] = row['hours played']\n",
    "                results.append(result[0])\n",
    "        dumped_cache = json.dumps(results)\n",
    "        cache = open(\"IGDB_cache.json\", 'w', encoding=\"utf-8\")\n",
    "        cache.write(dumped_cache)\n",
    "        cache.close()\n",
    "    else:\n",
    "        print(\"Opting to read from cache file at IGDB_cache.json instead of connecting to API\")\n",
    "        cache_file = open(\"IGDB_cache.json\",'r', encoding = \"utf-8\")\n",
    "        cache_contents = cache_file.read()\n",
    "        cache_file.close()\n",
    "        results = json.loads(cache_contents)\n",
    "except:\n",
    "    print(\"Could not connect to IGDB API, now reading from cache file at IGDB_cache.json\")\n",
    "    cache_file = open(\"IGDB_cache.json\",'r', encoding = \"utf-8\")\n",
    "    cache_contents = cache_file.read()\n",
    "    cache_file.close()\n",
    "    results = json.loads(cache_contents)"
   ]
  },
  {
   "cell_type": "code",
   "execution_count": 15,
   "metadata": {},
   "outputs": [],
   "source": [
    "df3 = pd.DataFrame(results)\n",
    "df3 = df3[['name', 'first_release_date', 'genres', 'rating', 'time_played']].dropna(subset=[\"first_release_date\"])"
   ]
  },
  {
   "cell_type": "code",
   "execution_count": 16,
   "metadata": {},
   "outputs": [
    {
     "data": {
      "text/html": [
       "<div>\n",
       "<style scoped>\n",
       "    .dataframe tbody tr th:only-of-type {\n",
       "        vertical-align: middle;\n",
       "    }\n",
       "\n",
       "    .dataframe tbody tr th {\n",
       "        vertical-align: top;\n",
       "    }\n",
       "\n",
       "    .dataframe thead th {\n",
       "        text-align: right;\n",
       "    }\n",
       "</style>\n",
       "<table border=\"1\" class=\"dataframe\">\n",
       "  <thead>\n",
       "    <tr style=\"text-align: right;\">\n",
       "      <th></th>\n",
       "      <th>name</th>\n",
       "      <th>first_release_date</th>\n",
       "      <th>genres</th>\n",
       "      <th>rating</th>\n",
       "      <th>time_played</th>\n",
       "    </tr>\n",
       "  </thead>\n",
       "  <tbody>\n",
       "    <tr>\n",
       "      <th>0</th>\n",
       "      <td>007 Legends</td>\n",
       "      <td>1.350346e+09</td>\n",
       "      <td>[5]</td>\n",
       "      <td>51.367626</td>\n",
       "      <td>0.70</td>\n",
       "    </tr>\n",
       "    <tr>\n",
       "      <th>1</th>\n",
       "      <td>1... 2... 3... KICK IT! (Drop That Beat Like a...</td>\n",
       "      <td>1.301616e+09</td>\n",
       "      <td>[7, 32]</td>\n",
       "      <td>40.000000</td>\n",
       "      <td>4.00</td>\n",
       "    </tr>\n",
       "    <tr>\n",
       "      <th>2</th>\n",
       "      <td>10 Second Ninja</td>\n",
       "      <td>1.393978e+09</td>\n",
       "      <td>[8, 32]</td>\n",
       "      <td>80.000000</td>\n",
       "      <td>2.95</td>\n",
       "    </tr>\n",
       "    <tr>\n",
       "      <th>3</th>\n",
       "      <td>100% Orange Juice</td>\n",
       "      <td>1.250294e+09</td>\n",
       "      <td>[15, 16, 32]</td>\n",
       "      <td>80.000000</td>\n",
       "      <td>8.70</td>\n",
       "    </tr>\n",
       "    <tr>\n",
       "      <th>4</th>\n",
       "      <td>1000 Amps</td>\n",
       "      <td>1.329869e+09</td>\n",
       "      <td>[8, 31, 32]</td>\n",
       "      <td>80.000000</td>\n",
       "      <td>0.10</td>\n",
       "    </tr>\n",
       "  </tbody>\n",
       "</table>\n",
       "</div>"
      ],
      "text/plain": [
       "                                                name  first_release_date  \\\n",
       "0                                        007 Legends        1.350346e+09   \n",
       "1  1... 2... 3... KICK IT! (Drop That Beat Like a...        1.301616e+09   \n",
       "2                                    10 Second Ninja        1.393978e+09   \n",
       "3                                  100% Orange Juice        1.250294e+09   \n",
       "4                                          1000 Amps        1.329869e+09   \n",
       "\n",
       "         genres     rating  time_played  \n",
       "0           [5]  51.367626         0.70  \n",
       "1       [7, 32]  40.000000         4.00  \n",
       "2       [8, 32]  80.000000         2.95  \n",
       "3  [15, 16, 32]  80.000000         8.70  \n",
       "4   [8, 31, 32]  80.000000         0.10  "
      ]
     },
     "execution_count": 16,
     "metadata": {},
     "output_type": "execute_result"
    }
   ],
   "source": [
    "df3.head()"
   ]
  },
  {
   "cell_type": "markdown",
   "metadata": {},
   "source": [
    "Converting from Unix timestamps to year"
   ]
  },
  {
   "cell_type": "code",
   "execution_count": 17,
   "metadata": {},
   "outputs": [],
   "source": [
    "from datetime import datetime\n",
    "\n",
    "def convert_unix_year(x):\n",
    "    return datetime.fromtimestamp(x).year\n",
    "\n",
    "df3['first_release_date'] = df3['first_release_date'].apply(convert_unix_year)"
   ]
  },
  {
   "cell_type": "code",
   "execution_count": 18,
   "metadata": {},
   "outputs": [
    {
     "data": {
      "text/html": [
       "<div>\n",
       "<style scoped>\n",
       "    .dataframe tbody tr th:only-of-type {\n",
       "        vertical-align: middle;\n",
       "    }\n",
       "\n",
       "    .dataframe tbody tr th {\n",
       "        vertical-align: top;\n",
       "    }\n",
       "\n",
       "    .dataframe thead th {\n",
       "        text-align: right;\n",
       "    }\n",
       "</style>\n",
       "<table border=\"1\" class=\"dataframe\">\n",
       "  <thead>\n",
       "    <tr style=\"text-align: right;\">\n",
       "      <th></th>\n",
       "      <th>name</th>\n",
       "      <th>first_release_date</th>\n",
       "      <th>genres</th>\n",
       "      <th>rating</th>\n",
       "      <th>time_played</th>\n",
       "    </tr>\n",
       "  </thead>\n",
       "  <tbody>\n",
       "    <tr>\n",
       "      <th>0</th>\n",
       "      <td>007 Legends</td>\n",
       "      <td>2012</td>\n",
       "      <td>[5]</td>\n",
       "      <td>51.367626</td>\n",
       "      <td>0.70</td>\n",
       "    </tr>\n",
       "    <tr>\n",
       "      <th>1</th>\n",
       "      <td>1... 2... 3... KICK IT! (Drop That Beat Like a...</td>\n",
       "      <td>2011</td>\n",
       "      <td>[7, 32]</td>\n",
       "      <td>40.000000</td>\n",
       "      <td>4.00</td>\n",
       "    </tr>\n",
       "    <tr>\n",
       "      <th>2</th>\n",
       "      <td>10 Second Ninja</td>\n",
       "      <td>2014</td>\n",
       "      <td>[8, 32]</td>\n",
       "      <td>80.000000</td>\n",
       "      <td>2.95</td>\n",
       "    </tr>\n",
       "    <tr>\n",
       "      <th>3</th>\n",
       "      <td>100% Orange Juice</td>\n",
       "      <td>2009</td>\n",
       "      <td>[15, 16, 32]</td>\n",
       "      <td>80.000000</td>\n",
       "      <td>8.70</td>\n",
       "    </tr>\n",
       "    <tr>\n",
       "      <th>4</th>\n",
       "      <td>1000 Amps</td>\n",
       "      <td>2012</td>\n",
       "      <td>[8, 31, 32]</td>\n",
       "      <td>80.000000</td>\n",
       "      <td>0.10</td>\n",
       "    </tr>\n",
       "  </tbody>\n",
       "</table>\n",
       "</div>"
      ],
      "text/plain": [
       "                                                name  first_release_date  \\\n",
       "0                                        007 Legends                2012   \n",
       "1  1... 2... 3... KICK IT! (Drop That Beat Like a...                2011   \n",
       "2                                    10 Second Ninja                2014   \n",
       "3                                  100% Orange Juice                2009   \n",
       "4                                          1000 Amps                2012   \n",
       "\n",
       "         genres     rating  time_played  \n",
       "0           [5]  51.367626         0.70  \n",
       "1       [7, 32]  40.000000         4.00  \n",
       "2       [8, 32]  80.000000         2.95  \n",
       "3  [15, 16, 32]  80.000000         8.70  \n",
       "4   [8, 31, 32]  80.000000         0.10  "
      ]
     },
     "execution_count": 18,
     "metadata": {},
     "output_type": "execute_result"
    }
   ],
   "source": [
    "df3.head()"
   ]
  },
  {
   "cell_type": "markdown",
   "metadata": {},
   "source": [
    "# Visualizations"
   ]
  },
  {
   "cell_type": "markdown",
   "metadata": {},
   "source": [
    "## Visualization 1: How does average time spent on a game vary based on the release year of the game?"
   ]
  },
  {
   "cell_type": "code",
   "execution_count": 19,
   "metadata": {},
   "outputs": [],
   "source": [
    "df4 = df3[['first_release_date', 'time_played']].groupby(\"first_release_date\").mean()"
   ]
  },
  {
   "cell_type": "code",
   "execution_count": 20,
   "metadata": {},
   "outputs": [
    {
     "data": {
      "text/html": [
       "<div>\n",
       "<style scoped>\n",
       "    .dataframe tbody tr th:only-of-type {\n",
       "        vertical-align: middle;\n",
       "    }\n",
       "\n",
       "    .dataframe tbody tr th {\n",
       "        vertical-align: top;\n",
       "    }\n",
       "\n",
       "    .dataframe thead th {\n",
       "        text-align: right;\n",
       "    }\n",
       "</style>\n",
       "<table border=\"1\" class=\"dataframe\">\n",
       "  <thead>\n",
       "    <tr style=\"text-align: right;\">\n",
       "      <th></th>\n",
       "      <th>time_played</th>\n",
       "    </tr>\n",
       "    <tr>\n",
       "      <th>first_release_date</th>\n",
       "      <th></th>\n",
       "    </tr>\n",
       "  </thead>\n",
       "  <tbody>\n",
       "    <tr>\n",
       "      <th>1980</th>\n",
       "      <td>0.200000</td>\n",
       "    </tr>\n",
       "    <tr>\n",
       "      <th>1981</th>\n",
       "      <td>9.377941</td>\n",
       "    </tr>\n",
       "    <tr>\n",
       "      <th>1983</th>\n",
       "      <td>0.850000</td>\n",
       "    </tr>\n",
       "    <tr>\n",
       "      <th>1985</th>\n",
       "      <td>1.950000</td>\n",
       "    </tr>\n",
       "    <tr>\n",
       "      <th>1986</th>\n",
       "      <td>3.624780</td>\n",
       "    </tr>\n",
       "  </tbody>\n",
       "</table>\n",
       "</div>"
      ],
      "text/plain": [
       "                    time_played\n",
       "first_release_date             \n",
       "1980                   0.200000\n",
       "1981                   9.377941\n",
       "1983                   0.850000\n",
       "1985                   1.950000\n",
       "1986                   3.624780"
      ]
     },
     "execution_count": 20,
     "metadata": {},
     "output_type": "execute_result"
    }
   ],
   "source": [
    "df4.head()"
   ]
  },
  {
   "cell_type": "code",
   "execution_count": 137,
   "metadata": {},
   "outputs": [
    {
     "data": {
      "image/png": "[encoded data removed]",
      "text/plain": [
       "<Figure size 720x504 with 1 Axes>"
      ]
     },
     "metadata": {},
     "output_type": "display_data"
    }
   ],
   "source": [
    "import matplotlib.pyplot as plt\n",
    "plt.figure(figsize=(10,7))\n",
    "\n",
    "plt.plot(df4.index, df4[\"time_played\"], linewidth=2)\n",
    "plt.title('How does average total time spent playing a game vary based on the release year of the game?', pad=30)\n",
    "plt.xlabel('Year of release')\n",
    "plt.ylabel('Average total time spent playing game (hours)')\n",
    "plt.show()"
   ]
  },
  {
   "cell_type": "markdown",
   "metadata": {},
   "source": [
    "Investigating strange spike around 2005"
   ]
  },
  {
   "cell_type": "code",
   "execution_count": 99,
   "metadata": {},
   "outputs": [
    {
     "data": {
      "text/html": [
       "<div>\n",
       "<style scoped>\n",
       "    .dataframe tbody tr th:only-of-type {\n",
       "        vertical-align: middle;\n",
       "    }\n",
       "\n",
       "    .dataframe tbody tr th {\n",
       "        vertical-align: top;\n",
       "    }\n",
       "\n",
       "    .dataframe thead th {\n",
       "        text-align: right;\n",
       "    }\n",
       "</style>\n",
       "<table border=\"1\" class=\"dataframe\">\n",
       "  <thead>\n",
       "    <tr style=\"text-align: right;\">\n",
       "      <th></th>\n",
       "      <th>name</th>\n",
       "      <th>first_release_date</th>\n",
       "      <th>genres</th>\n",
       "      <th>rating</th>\n",
       "      <th>time_played</th>\n",
       "    </tr>\n",
       "  </thead>\n",
       "  <tbody>\n",
       "    <tr>\n",
       "      <th>143</th>\n",
       "      <td>Avernum 4</td>\n",
       "      <td>2005</td>\n",
       "      <td>[12, 32]</td>\n",
       "      <td>70.000000</td>\n",
       "      <td>228.000</td>\n",
       "    </tr>\n",
       "    <tr>\n",
       "      <th>1990</th>\n",
       "      <td>Uncharted Waters Online</td>\n",
       "      <td>2005</td>\n",
       "      <td>[12, 15, 31]</td>\n",
       "      <td>NaN</td>\n",
       "      <td>181.000</td>\n",
       "    </tr>\n",
       "    <tr>\n",
       "      <th>938</th>\n",
       "      <td>Imperial Glory</td>\n",
       "      <td>2005</td>\n",
       "      <td>[11, 15, 24]</td>\n",
       "      <td>89.728647</td>\n",
       "      <td>170.000</td>\n",
       "    </tr>\n",
       "    <tr>\n",
       "      <th>845</th>\n",
       "      <td>Guild Wars</td>\n",
       "      <td>2005</td>\n",
       "      <td>[12, 15, 31]</td>\n",
       "      <td>78.984744</td>\n",
       "      <td>147.925</td>\n",
       "    </tr>\n",
       "    <tr>\n",
       "      <th>1563</th>\n",
       "      <td>Shattered Union</td>\n",
       "      <td>2005</td>\n",
       "      <td>[15, 16, 24]</td>\n",
       "      <td>50.000000</td>\n",
       "      <td>116.000</td>\n",
       "    </tr>\n",
       "    <tr>\n",
       "      <th>1009</th>\n",
       "      <td>Knights of Honor</td>\n",
       "      <td>2005</td>\n",
       "      <td>[11, 13, 15]</td>\n",
       "      <td>85.995377</td>\n",
       "      <td>39.800</td>\n",
       "    </tr>\n",
       "    <tr>\n",
       "      <th>1611</th>\n",
       "      <td>Sniper Elite</td>\n",
       "      <td>2005</td>\n",
       "      <td>[5, 13, 15, 24]</td>\n",
       "      <td>69.982921</td>\n",
       "      <td>26.710</td>\n",
       "    </tr>\n",
       "  </tbody>\n",
       "</table>\n",
       "</div>"
      ],
      "text/plain": [
       "                         name  first_release_date           genres     rating  \\\n",
       "143                 Avernum 4                2005         [12, 32]  70.000000   \n",
       "1990  Uncharted Waters Online                2005     [12, 15, 31]        NaN   \n",
       "938            Imperial Glory                2005     [11, 15, 24]  89.728647   \n",
       "845                Guild Wars                2005     [12, 15, 31]  78.984744   \n",
       "1563          Shattered Union                2005     [15, 16, 24]  50.000000   \n",
       "1009         Knights of Honor                2005     [11, 13, 15]  85.995377   \n",
       "1611             Sniper Elite                2005  [5, 13, 15, 24]  69.982921   \n",
       "\n",
       "      time_played  \n",
       "143       228.000  \n",
       "1990      181.000  \n",
       "938       170.000  \n",
       "845       147.925  \n",
       "1563      116.000  \n",
       "1009       39.800  \n",
       "1611       26.710  "
      ]
     },
     "execution_count": 99,
     "metadata": {},
     "output_type": "execute_result"
    }
   ],
   "source": [
    "anomaly = df3[df3['first_release_date'] == 2005].sort_values(by='time_played', ascending=False).head(7)\n",
    "anomaly"
   ]
  },
  {
   "cell_type": "markdown",
   "metadata": {},
   "source": [
    "## Visualization 2: How does average time spent on a game vary with the IGDB rating of the game?"
   ]
  },
  {
   "cell_type": "code",
   "execution_count": 57,
   "metadata": {},
   "outputs": [],
   "source": [
    "df5 = df3[['rating', 'time_played', 'first_release_date']]"
   ]
  },
  {
   "cell_type": "code",
   "execution_count": 58,
   "metadata": {},
   "outputs": [
    {
     "data": {
      "text/html": [
       "<div>\n",
       "<style scoped>\n",
       "    .dataframe tbody tr th:only-of-type {\n",
       "        vertical-align: middle;\n",
       "    }\n",
       "\n",
       "    .dataframe tbody tr th {\n",
       "        vertical-align: top;\n",
       "    }\n",
       "\n",
       "    .dataframe thead th {\n",
       "        text-align: right;\n",
       "    }\n",
       "</style>\n",
       "<table border=\"1\" class=\"dataframe\">\n",
       "  <thead>\n",
       "    <tr style=\"text-align: right;\">\n",
       "      <th></th>\n",
       "      <th>rating</th>\n",
       "      <th>time_played</th>\n",
       "      <th>first_release_date</th>\n",
       "    </tr>\n",
       "  </thead>\n",
       "  <tbody>\n",
       "    <tr>\n",
       "      <th>0</th>\n",
       "      <td>51.367626</td>\n",
       "      <td>0.70</td>\n",
       "      <td>2012</td>\n",
       "    </tr>\n",
       "    <tr>\n",
       "      <th>1</th>\n",
       "      <td>40.000000</td>\n",
       "      <td>4.00</td>\n",
       "      <td>2011</td>\n",
       "    </tr>\n",
       "    <tr>\n",
       "      <th>2</th>\n",
       "      <td>80.000000</td>\n",
       "      <td>2.95</td>\n",
       "      <td>2014</td>\n",
       "    </tr>\n",
       "    <tr>\n",
       "      <th>3</th>\n",
       "      <td>80.000000</td>\n",
       "      <td>8.70</td>\n",
       "      <td>2009</td>\n",
       "    </tr>\n",
       "    <tr>\n",
       "      <th>4</th>\n",
       "      <td>80.000000</td>\n",
       "      <td>0.10</td>\n",
       "      <td>2012</td>\n",
       "    </tr>\n",
       "  </tbody>\n",
       "</table>\n",
       "</div>"
      ],
      "text/plain": [
       "      rating  time_played  first_release_date\n",
       "0  51.367626         0.70                2012\n",
       "1  40.000000         4.00                2011\n",
       "2  80.000000         2.95                2014\n",
       "3  80.000000         8.70                2009\n",
       "4  80.000000         0.10                2012"
      ]
     },
     "execution_count": 58,
     "metadata": {},
     "output_type": "execute_result"
    }
   ],
   "source": [
    "df5.head()"
   ]
  },
  {
   "cell_type": "code",
   "execution_count": 136,
   "metadata": {},
   "outputs": [
    {
     "data": {
      "image/png": "[encoded data removed]",
      "text/plain": [
       "<Figure size 720x504 with 1 Axes>"
      ]
     },
     "metadata": {},
     "output_type": "display_data"
    }
   ],
   "source": [
    "from matplotlib import cm\n",
    "\n",
    "\n",
    "\n",
    "cmap = cm.get_cmap('Spectral')\n",
    "fig, ax = plt.subplots(1, figsize=(10,7))\n",
    "\n",
    "ax.scatter(df5['rating'], df5['time_played'], c=df5['first_release_date'], s=12, cmap=cmap, edgecolor='None')\n",
    "ax.set_ybound(lower=0, upper=100)\n",
    "ax.set_ylabel('Average total time spent playing game (hours)')\n",
    "ax.set_xlabel('IGDB rating of game')\n",
    "ax.set_title('How does the average total time spent on a game vary with the IGDB rating of the game?', pad=30)\n",
    "plt.show()"
   ]
  },
  {
   "cell_type": "markdown",
   "metadata": {},
   "source": [
    "## Visualization 3: Which genres of video games have the highest average time spent?"
   ]
  },
  {
   "cell_type": "code",
   "execution_count": 30,
   "metadata": {},
   "outputs": [],
   "source": [
    "genre_times = []\n",
    "for row_index,row in df3[['genres', 'time_played']].iterrows():\n",
    "    if isinstance(row['genres'], (list,)):\n",
    "        for genre in row['genres']:\n",
    "            genre_time = {'genre': genre, 'time_played': row['time_played']}\n",
    "            genre_times.append(genre_time)\n",
    "\n",
    "df6 = pd.DataFrame(genre_times)"
   ]
  },
  {
   "cell_type": "code",
   "execution_count": 31,
   "metadata": {},
   "outputs": [
    {
     "data": {
      "text/html": [
       "<div>\n",
       "<style scoped>\n",
       "    .dataframe tbody tr th:only-of-type {\n",
       "        vertical-align: middle;\n",
       "    }\n",
       "\n",
       "    .dataframe tbody tr th {\n",
       "        vertical-align: top;\n",
       "    }\n",
       "\n",
       "    .dataframe thead th {\n",
       "        text-align: right;\n",
       "    }\n",
       "</style>\n",
       "<table border=\"1\" class=\"dataframe\">\n",
       "  <thead>\n",
       "    <tr style=\"text-align: right;\">\n",
       "      <th></th>\n",
       "      <th>genre</th>\n",
       "      <th>time_played</th>\n",
       "    </tr>\n",
       "  </thead>\n",
       "  <tbody>\n",
       "    <tr>\n",
       "      <th>0</th>\n",
       "      <td>5</td>\n",
       "      <td>0.70</td>\n",
       "    </tr>\n",
       "    <tr>\n",
       "      <th>1</th>\n",
       "      <td>7</td>\n",
       "      <td>4.00</td>\n",
       "    </tr>\n",
       "    <tr>\n",
       "      <th>2</th>\n",
       "      <td>32</td>\n",
       "      <td>4.00</td>\n",
       "    </tr>\n",
       "    <tr>\n",
       "      <th>3</th>\n",
       "      <td>8</td>\n",
       "      <td>2.95</td>\n",
       "    </tr>\n",
       "    <tr>\n",
       "      <th>4</th>\n",
       "      <td>32</td>\n",
       "      <td>2.95</td>\n",
       "    </tr>\n",
       "  </tbody>\n",
       "</table>\n",
       "</div>"
      ],
      "text/plain": [
       "   genre  time_played\n",
       "0      5         0.70\n",
       "1      7         4.00\n",
       "2     32         4.00\n",
       "3      8         2.95\n",
       "4     32         2.95"
      ]
     },
     "execution_count": 31,
     "metadata": {},
     "output_type": "execute_result"
    }
   ],
   "source": [
    "df6.head()"
   ]
  },
  {
   "cell_type": "code",
   "execution_count": 32,
   "metadata": {},
   "outputs": [],
   "source": [
    "df6 = df6.groupby(\"genre\").mean()"
   ]
  },
  {
   "cell_type": "code",
   "execution_count": 33,
   "metadata": {},
   "outputs": [
    {
     "data": {
      "text/html": [
       "<div>\n",
       "<style scoped>\n",
       "    .dataframe tbody tr th:only-of-type {\n",
       "        vertical-align: middle;\n",
       "    }\n",
       "\n",
       "    .dataframe tbody tr th {\n",
       "        vertical-align: top;\n",
       "    }\n",
       "\n",
       "    .dataframe thead th {\n",
       "        text-align: right;\n",
       "    }\n",
       "</style>\n",
       "<table border=\"1\" class=\"dataframe\">\n",
       "  <thead>\n",
       "    <tr style=\"text-align: right;\">\n",
       "      <th></th>\n",
       "      <th>time_played</th>\n",
       "    </tr>\n",
       "    <tr>\n",
       "      <th>genre</th>\n",
       "      <th></th>\n",
       "    </tr>\n",
       "  </thead>\n",
       "  <tbody>\n",
       "    <tr>\n",
       "      <th>14</th>\n",
       "      <td>40.364583</td>\n",
       "    </tr>\n",
       "    <tr>\n",
       "      <th>24</th>\n",
       "      <td>23.666473</td>\n",
       "    </tr>\n",
       "    <tr>\n",
       "      <th>13</th>\n",
       "      <td>21.543470</td>\n",
       "    </tr>\n",
       "    <tr>\n",
       "      <th>15</th>\n",
       "      <td>17.990506</td>\n",
       "    </tr>\n",
       "    <tr>\n",
       "      <th>12</th>\n",
       "      <td>15.950986</td>\n",
       "    </tr>\n",
       "    <tr>\n",
       "      <th>11</th>\n",
       "      <td>15.082164</td>\n",
       "    </tr>\n",
       "    <tr>\n",
       "      <th>16</th>\n",
       "      <td>13.340775</td>\n",
       "    </tr>\n",
       "    <tr>\n",
       "      <th>25</th>\n",
       "      <td>11.353891</td>\n",
       "    </tr>\n",
       "    <tr>\n",
       "      <th>26</th>\n",
       "      <td>10.669444</td>\n",
       "    </tr>\n",
       "    <tr>\n",
       "      <th>5</th>\n",
       "      <td>10.492979</td>\n",
       "    </tr>\n",
       "  </tbody>\n",
       "</table>\n",
       "</div>"
      ],
      "text/plain": [
       "       time_played\n",
       "genre             \n",
       "14       40.364583\n",
       "24       23.666473\n",
       "13       21.543470\n",
       "15       17.990506\n",
       "12       15.950986\n",
       "11       15.082164\n",
       "16       13.340775\n",
       "25       11.353891\n",
       "26       10.669444\n",
       "5        10.492979"
      ]
     },
     "execution_count": 33,
     "metadata": {},
     "output_type": "execute_result"
    }
   ],
   "source": [
    "df6.sort_values(by='time_played', ascending=False).head(10)"
   ]
  },
  {
   "cell_type": "code",
   "execution_count": 43,
   "metadata": {},
   "outputs": [],
   "source": [
    "def getIgdbGenre(id):\n",
    "    headers = {\n",
    "        # API key hidden for security purposes, can get one for free at https://api.igdb.com/\n",
    "        \"user-key\": user_key,\n",
    "        \"user-agent\": \"Lawrence Zheng's personal project\",\n",
    "    }\n",
    "    payload = \"fields name; where id = \" + str(id) + \";\"\n",
    "    url = \"https://api-v3.igdb.com/genres\"\n",
    "    response = requests.post(url, headers=headers, data=payload)\n",
    "    results = json.loads(response.content)\n",
    "    return results[0]['name']\n"
   ]
  },
  {
   "cell_type": "code",
   "execution_count": 44,
   "metadata": {},
   "outputs": [],
   "source": [
    "genre_times_converted = []\n",
    "for row_index,row in df6.iterrows():\n",
    "    genre_time = {'genre': getIgdbGenre(row_index), 'time_played': row['time_played']}\n",
    "    genre_times_converted.append(genre_time)\n",
    "df7 = pd.DataFrame(genre_times_converted)"
   ]
  },
  {
   "cell_type": "code",
   "execution_count": 131,
   "metadata": {},
   "outputs": [],
   "source": [
    "df7 = df7.sort_values(by='time_played', ascending=False).head(10).sort_values(by='time_played', ascending=True)"
   ]
  },
  {
   "cell_type": "code",
   "execution_count": 135,
   "metadata": {},
   "outputs": [
    {
     "data": {
      "image/png": "[encoded data removed]",
      "text/plain": [
       "<Figure size 720x504 with 1 Axes>"
      ]
     },
     "metadata": {},
     "output_type": "display_data"
    }
   ],
   "source": [
    "plt.figure(figsize=(10,7))\n",
    "\n",
    "plt.barh(df7[\"genre\"], df7[\"time_played\"])\n",
    "plt.title('Which genres of video games have the highest average time spent?', pad=30)\n",
    "plt.xlabel('Average total time spent playing game (hours)')\n",
    "plt.ylabel('Video game genre')\n",
    "plt.show()"
   ]
  },
  {
   "cell_type": "code",
   "execution_count": null,
   "metadata": {},
   "outputs": [],
   "source": []
  }
 ],
 "metadata": {
  "kernelspec": {
   "display_name": "Python 3",
   "language": "python",
   "name": "python3"
  },
  "language_info": {
   "codemirror_mode": {
    "name": "ipython",
    "version": 3
   },
   "file_extension": ".py",
   "mimetype": "text/x-python",
   "name": "python",
   "nbconvert_exporter": "python",
   "pygments_lexer": "ipython3",
   "version": "3.6.5"
  }
 },
 "nbformat": 4,
 "nbformat_minor": 2
}
